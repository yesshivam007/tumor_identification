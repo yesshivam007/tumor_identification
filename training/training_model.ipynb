{
  "nbformat": 4,
  "nbformat_minor": 0,
  "metadata": {
    "colab": {
      "name": "Training.ipynb",
      "provenance": []
    },
    "kernelspec": {
      "name": "python3",
      "display_name": "Python 3"
    },
    "language_info": {
      "name": "python"
    }
  },
  "cells": [
    {
      "cell_type": "code",
      "execution_count": null,
      "metadata": {
        "id": "a6FNGFOVHVG5"
      },
      "outputs": [],
      "source": [
        "import tensorflow as tf\n",
        "from tensorflow.keras import models, layers\n",
        "import matplotlib.pyplot as plt"
      ]
    },
    {
      "cell_type": "code",
      "source": [
        "IMAGE_SIZE = 630\n",
        "BATCH_SIZE = 32\n",
        "CHANNELS = 3\n",
        "EPOCHS = 50"
      ],
      "metadata": {
        "id": "0tczLX0ZHfrU"
      },
      "execution_count": null,
      "outputs": []
    },
    {
      "cell_type": "code",
      "source": [
        "dataset = tf.keras.preprocessing.image_dataset_from_directory(\n",
        "    'drive/MyDrive/tumor_dataset',\n",
        "    shuffle = True,\n",
        "    image_size = (IMAGE_SIZE, IMAGE_SIZE),\n",
        "    batch_size = BATCH_SIZE,\n",
        ")"
      ],
      "metadata": {
        "id": "r_Z6--X8HlZP",
        "colab": {
          "base_uri": "https://localhost:8080/"
        },
        "outputId": "00de2709-7a9e-43e4-d125-c032509223b6"
      },
      "execution_count": null,
      "outputs": [
        {
          "output_type": "stream",
          "name": "stdout",
          "text": [
            "Found 253 files belonging to 2 classes.\n"
          ]
        }
      ]
    },
    {
      "cell_type": "code",
      "source": [
        "class_names = dataset.class_names"
      ],
      "metadata": {
        "id": "ewswlM82Hnk-"
      },
      "execution_count": null,
      "outputs": []
    },
    {
      "cell_type": "code",
      "source": [
        "train_ds = dataset.take(6)\n",
        "val_ds = dataset.take(1)\n",
        "test_ds = dataset.take(1)"
      ],
      "metadata": {
        "id": "OphduDEMIlDz"
      },
      "execution_count": null,
      "outputs": []
    },
    {
      "cell_type": "code",
      "source": [
        "train_ds.cache().shuffle(1000).prefetch(buffer_size=tf.data.AUTOTUNE)\n",
        "val_ds.cache().shuffle(1000).prefetch(buffer_size=tf.data.AUTOTUNE)\n",
        "test_ds.cache().shuffle(1000).prefetch(buffer_size=tf.data.AUTOTUNE)"
      ],
      "metadata": {
        "id": "Ann5cWQzIrmL",
        "colab": {
          "base_uri": "https://localhost:8080/"
        },
        "outputId": "1e1e5f6f-3f50-499c-e85a-5d485d31cd2b"
      },
      "execution_count": null,
      "outputs": [
        {
          "output_type": "execute_result",
          "data": {
            "text/plain": [
              "<PrefetchDataset element_spec=(TensorSpec(shape=(None, 630, 630, 3), dtype=tf.float32, name=None), TensorSpec(shape=(None,), dtype=tf.int32, name=None))>"
            ]
          },
          "metadata": {},
          "execution_count": 7
        }
      ]
    },
    {
      "cell_type": "code",
      "source": [
        "resize_rescale = tf.keras.Sequential([\n",
        "    layers.experimental.preprocessing.Rescaling(IMAGE_SIZE, IMAGE_SIZE),\n",
        "    layers.experimental.preprocessing.Rescaling(1.0/255)\n",
        "])"
      ],
      "metadata": {
        "id": "o3tfzzkMIuPk"
      },
      "execution_count": null,
      "outputs": []
    },
    {
      "cell_type": "code",
      "source": [
        "data_augmentation = tf.keras.Sequential([\n",
        "    layers.experimental.preprocessing.RandomFlip('horizontal_and_vertical'),\n",
        "    layers.experimental.preprocessing.RandomRotation(0.2)\n",
        "])"
      ],
      "metadata": {
        "id": "teWBoNlYIucd"
      },
      "execution_count": null,
      "outputs": []
    },
    {
      "cell_type": "code",
      "source": [
        "input_shape=(BATCH_SIZE, IMAGE_SIZE, IMAGE_SIZE, CHANNELS)\n",
        "n_classes = 3\n",
        "\n",
        "model = models.Sequential([\n",
        "    resize_rescale,\n",
        "    data_augmentation,\n",
        "    layers.Conv2D(32, (3,3), activation='relu', input_shape=input_shape),\n",
        "    layers.MaxPooling2D((2,2)),\n",
        "    layers.Flatten(),\n",
        "    layers.Dense(64, activation='relu'),\n",
        "    layers.Dense(n_classes, activation='softmax')\n",
        "])\n",
        "\n",
        "# You may add more layers here (Lec 3)\n",
        "\n",
        "model.build(input_shape=input_shape)"
      ],
      "metadata": {
        "id": "f0rh5Zc1IygV"
      },
      "execution_count": null,
      "outputs": []
    },
    {
      "cell_type": "code",
      "source": [
        "model.compile(\n",
        "    optimizer='adam',\n",
        "    loss = tf.keras.losses.SparseCategoricalCrossentropy(from_logits=False),\n",
        "    metrics=['accuracy']\n",
        ")"
      ],
      "metadata": {
        "id": "4jqd_L6vI2sW"
      },
      "execution_count": null,
      "outputs": []
    },
    {
      "cell_type": "code",
      "source": [
        "history = model.fit(\n",
        "    train_ds,\n",
        "    epochs = EPOCHS,\n",
        "    batch_size = BATCH_SIZE,\n",
        "    verbose = 1,\n",
        "    validation_data = val_ds\n",
        ")"
      ],
      "metadata": {
        "id": "aq9qDEwWI2zp",
        "colab": {
          "base_uri": "https://localhost:8080/"
        },
        "outputId": "6d35045d-62b7-45d1-9837-1cdafbfeaa1f"
      },
      "execution_count": null,
      "outputs": [
        {
          "output_type": "stream",
          "name": "stdout",
          "text": [
            "Epoch 1/50\n",
            "6/6 [==============================] - 69s 11s/step - loss: 85588.2969 - accuracy: 0.5052 - val_loss: 17954.8223 - val_accuracy: 0.4688\n",
            "Epoch 2/50\n",
            "6/6 [==============================] - 63s 10s/step - loss: 21623.1523 - accuracy: 0.6146 - val_loss: 20502.2324 - val_accuracy: 0.6250\n",
            "Epoch 3/50\n",
            "6/6 [==============================] - 61s 10s/step - loss: 11256.8643 - accuracy: 0.6406 - val_loss: 8136.7363 - val_accuracy: 0.5000\n",
            "Epoch 4/50\n",
            "6/6 [==============================] - 61s 10s/step - loss: 6564.1367 - accuracy: 0.5781 - val_loss: 5940.0942 - val_accuracy: 0.6875\n",
            "Epoch 5/50\n",
            "6/6 [==============================] - 61s 10s/step - loss: 3867.8027 - accuracy: 0.6875 - val_loss: 2052.4233 - val_accuracy: 0.7188\n",
            "Epoch 6/50\n",
            "6/6 [==============================] - 62s 10s/step - loss: 1717.1710 - accuracy: 0.7083 - val_loss: 877.6052 - val_accuracy: 0.6875\n",
            "Epoch 7/50\n",
            "6/6 [==============================] - 63s 10s/step - loss: 1216.5175 - accuracy: 0.6094 - val_loss: 691.8887 - val_accuracy: 0.6250\n",
            "Epoch 8/50\n",
            "6/6 [==============================] - 66s 10s/step - loss: 485.3418 - accuracy: 0.8073 - val_loss: 250.1702 - val_accuracy: 0.8750\n",
            "Epoch 9/50\n",
            "6/6 [==============================] - 63s 10s/step - loss: 577.9961 - accuracy: 0.7135 - val_loss: 567.6788 - val_accuracy: 0.7188\n",
            "Epoch 10/50\n",
            "6/6 [==============================] - 61s 10s/step - loss: 243.5078 - accuracy: 0.7812 - val_loss: 137.0410 - val_accuracy: 0.7188\n",
            "Epoch 11/50\n",
            "6/6 [==============================] - 64s 11s/step - loss: 150.3370 - accuracy: 0.7396 - val_loss: 83.6894 - val_accuracy: 0.8438\n",
            "Epoch 12/50\n",
            "6/6 [==============================] - 62s 10s/step - loss: 124.1611 - accuracy: 0.7552 - val_loss: 56.6918 - val_accuracy: 0.8125\n",
            "Epoch 13/50\n",
            "6/6 [==============================] - 60s 10s/step - loss: 122.4547 - accuracy: 0.7240 - val_loss: 147.3828 - val_accuracy: 0.7500\n",
            "Epoch 14/50\n",
            "6/6 [==============================] - 61s 10s/step - loss: 85.0950 - accuracy: 0.7083 - val_loss: 34.8351 - val_accuracy: 0.8125\n",
            "Epoch 15/50\n",
            "6/6 [==============================] - 61s 10s/step - loss: 66.2869 - accuracy: 0.7240 - val_loss: 82.6022 - val_accuracy: 0.8438\n",
            "Epoch 16/50\n",
            "6/6 [==============================] - 66s 11s/step - loss: 47.3442 - accuracy: 0.7031 - val_loss: 84.8961 - val_accuracy: 0.5000\n",
            "Epoch 17/50\n",
            "6/6 [==============================] - 65s 11s/step - loss: 63.5128 - accuracy: 0.7292 - val_loss: 45.9272 - val_accuracy: 0.8125\n",
            "Epoch 18/50\n",
            "6/6 [==============================] - 60s 10s/step - loss: 50.1169 - accuracy: 0.7031 - val_loss: 48.4221 - val_accuracy: 0.6875\n",
            "Epoch 19/50\n",
            "6/6 [==============================] - 59s 10s/step - loss: 42.6865 - accuracy: 0.7708 - val_loss: 37.2140 - val_accuracy: 0.8125\n",
            "Epoch 20/50\n",
            "6/6 [==============================] - 60s 10s/step - loss: 31.7094 - accuracy: 0.7552 - val_loss: 13.7026 - val_accuracy: 0.8750\n",
            "Epoch 21/50\n",
            "6/6 [==============================] - 61s 10s/step - loss: 27.1158 - accuracy: 0.7604 - val_loss: 29.3932 - val_accuracy: 0.7812\n",
            "Epoch 22/50\n",
            "6/6 [==============================] - 61s 10s/step - loss: 25.9809 - accuracy: 0.7969 - val_loss: 22.2482 - val_accuracy: 0.7500\n",
            "Epoch 23/50\n",
            "6/6 [==============================] - 62s 10s/step - loss: 25.8814 - accuracy: 0.7969 - val_loss: 14.8011 - val_accuracy: 0.9062\n",
            "Epoch 24/50\n",
            "6/6 [==============================] - 60s 10s/step - loss: 26.5541 - accuracy: 0.7917 - val_loss: 22.6195 - val_accuracy: 0.8125\n",
            "Epoch 25/50\n",
            "6/6 [==============================] - 67s 11s/step - loss: 20.7657 - accuracy: 0.7656 - val_loss: 8.5744 - val_accuracy: 0.8750\n",
            "Epoch 26/50\n",
            "6/6 [==============================] - 60s 10s/step - loss: 26.5320 - accuracy: 0.7500 - val_loss: 17.8836 - val_accuracy: 0.8125\n",
            "Epoch 27/50\n",
            "6/6 [==============================] - 62s 10s/step - loss: 27.8929 - accuracy: 0.7656 - val_loss: 33.7817 - val_accuracy: 0.7188\n",
            "Epoch 28/50\n",
            "6/6 [==============================] - 62s 10s/step - loss: 19.2334 - accuracy: 0.8229 - val_loss: 17.8433 - val_accuracy: 0.7500\n",
            "Epoch 29/50\n",
            "6/6 [==============================] - 60s 10s/step - loss: 28.3968 - accuracy: 0.7865 - val_loss: 29.0304 - val_accuracy: 0.7188\n",
            "Epoch 30/50\n",
            "6/6 [==============================] - 60s 10s/step - loss: 20.4755 - accuracy: 0.7708 - val_loss: 32.2467 - val_accuracy: 0.8125\n",
            "Epoch 31/50\n",
            "6/6 [==============================] - 62s 10s/step - loss: 20.0287 - accuracy: 0.8073 - val_loss: 26.5480 - val_accuracy: 0.8125\n",
            "Epoch 32/50\n",
            "6/6 [==============================] - 61s 10s/step - loss: 23.8472 - accuracy: 0.7552 - val_loss: 17.2981 - val_accuracy: 0.8750\n",
            "Epoch 33/50\n",
            "6/6 [==============================] - 63s 10s/step - loss: 25.0255 - accuracy: 0.7865 - val_loss: 21.4289 - val_accuracy: 0.8750\n",
            "Epoch 34/50\n",
            "6/6 [==============================] - 60s 10s/step - loss: 19.9600 - accuracy: 0.7969 - val_loss: 27.7907 - val_accuracy: 0.8125\n",
            "Epoch 35/50\n",
            "6/6 [==============================] - 61s 10s/step - loss: 22.1292 - accuracy: 0.8021 - val_loss: 21.3494 - val_accuracy: 0.8125\n",
            "Epoch 36/50\n",
            "6/6 [==============================] - 61s 10s/step - loss: 15.1071 - accuracy: 0.7604 - val_loss: 29.9484 - val_accuracy: 0.8438\n",
            "Epoch 37/50\n",
            "6/6 [==============================] - 60s 10s/step - loss: 13.8923 - accuracy: 0.8177 - val_loss: 22.8397 - val_accuracy: 0.7812\n",
            "Epoch 38/50\n",
            "6/6 [==============================] - 62s 10s/step - loss: 19.3305 - accuracy: 0.7760 - val_loss: 6.2794 - val_accuracy: 0.9062\n",
            "Epoch 39/50\n",
            "6/6 [==============================] - 62s 10s/step - loss: 22.2590 - accuracy: 0.7917 - val_loss: 14.5869 - val_accuracy: 0.8125\n",
            "Epoch 40/50\n",
            "6/6 [==============================] - 63s 10s/step - loss: 15.6425 - accuracy: 0.7917 - val_loss: 21.0656 - val_accuracy: 0.7812\n",
            "Epoch 41/50\n",
            "6/6 [==============================] - 70s 12s/step - loss: 12.4748 - accuracy: 0.7969 - val_loss: 19.8172 - val_accuracy: 0.7812\n",
            "Epoch 42/50\n",
            "6/6 [==============================] - 61s 10s/step - loss: 21.7732 - accuracy: 0.7448 - val_loss: 7.7957 - val_accuracy: 0.7812\n",
            "Epoch 43/50\n",
            "6/6 [==============================] - 60s 10s/step - loss: 13.5491 - accuracy: 0.8125 - val_loss: 1.6447 - val_accuracy: 0.9062\n",
            "Epoch 44/50\n",
            "6/6 [==============================] - 61s 10s/step - loss: 16.8905 - accuracy: 0.8073 - val_loss: 5.5526 - val_accuracy: 0.7500\n",
            "Epoch 45/50\n",
            "6/6 [==============================] - 60s 10s/step - loss: 17.5856 - accuracy: 0.7812 - val_loss: 19.5550 - val_accuracy: 0.7500\n",
            "Epoch 46/50\n",
            "6/6 [==============================] - 60s 10s/step - loss: 12.4735 - accuracy: 0.8385 - val_loss: 12.9585 - val_accuracy: 0.8125\n",
            "Epoch 47/50\n",
            "6/6 [==============================] - 61s 10s/step - loss: 17.8754 - accuracy: 0.7865 - val_loss: 5.8126 - val_accuracy: 0.8438\n",
            "Epoch 48/50\n",
            "6/6 [==============================] - 64s 11s/step - loss: 17.0358 - accuracy: 0.8073 - val_loss: 8.7885 - val_accuracy: 0.7500\n",
            "Epoch 49/50\n",
            "6/6 [==============================] - 61s 10s/step - loss: 10.7163 - accuracy: 0.8229 - val_loss: 6.4094 - val_accuracy: 0.8125\n",
            "Epoch 50/50\n",
            "6/6 [==============================] - 60s 10s/step - loss: 16.9528 - accuracy: 0.8385 - val_loss: 26.0024 - val_accuracy: 0.7812\n"
          ]
        }
      ]
    },
    {
      "cell_type": "code",
      "source": [
        "model.save('model_V1')"
      ],
      "metadata": {
        "colab": {
          "base_uri": "https://localhost:8080/"
        },
        "id": "DdiPxoFju95G",
        "outputId": "93ab879b-c1eb-4b9d-cc7e-c82e799645a4"
      },
      "execution_count": null,
      "outputs": [
        {
          "output_type": "stream",
          "name": "stdout",
          "text": [
            "INFO:tensorflow:Assets written to: model_V1/assets\n"
          ]
        }
      ]
    }
  ]
}